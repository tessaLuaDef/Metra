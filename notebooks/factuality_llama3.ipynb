{
 "cells": [
  {
   "cell_type": "markdown",
   "id": "f2b1b47d",
   "metadata": {},
   "source": [
    "## Analysis of factuality metric with Llama3\n",
    "This notebook analyzes the results obtained for the **Factuality** metric applied to the Llama3 model. It explores basic statistics and visualizations to understand how the scores behave."
   ]
  },
  {
   "cell_type": "markdown",
   "id": "a9195bae",
   "metadata": {},
   "source": [
    "## Data Loading\n",
    "We load the JSON results file and convert it into a Pandas DataFrame for easier analysis."
   ]
  },
  {
   "cell_type": "code",
   "execution_count": 1,
   "id": "011821db",
   "metadata": {},
   "outputs": [],
   "source": [
    "import pandas as pd\n",
    "import matplotlib.pyplot as plt\n",
    "import seaborn as sns\n",
    "import json"
   ]
  },
  {
   "cell_type": "code",
   "execution_count": 2,
   "id": "a1486cf2",
   "metadata": {},
   "outputs": [
    {
     "data": {
      "text/html": [
       "<div>\n",
       "<style scoped>\n",
       "    .dataframe tbody tr th:only-of-type {\n",
       "        vertical-align: middle;\n",
       "    }\n",
       "\n",
       "    .dataframe tbody tr th {\n",
       "        vertical-align: top;\n",
       "    }\n",
       "\n",
       "    .dataframe thead th {\n",
       "        text-align: right;\n",
       "    }\n",
       "</style>\n",
       "<table border=\"1\" class=\"dataframe\">\n",
       "  <thead>\n",
       "    <tr style=\"text-align: right;\">\n",
       "      <th></th>\n",
       "      <th>question</th>\n",
       "      <th>model_answer</th>\n",
       "      <th>context</th>\n",
       "      <th>score</th>\n",
       "      <th>justification</th>\n",
       "    </tr>\n",
       "  </thead>\n",
       "  <tbody>\n",
       "    <tr>\n",
       "      <th>0</th>\n",
       "      <td>In astronomy the concept of black bodies is ve...</td>\n",
       "      <td>A black body is a theoretical object that abso...</td>\n",
       "      <td>A black body is a theoretical object that abso...</td>\n",
       "      <td>1.000</td>\n",
       "      <td>The answer is explicitly stated in the context...</td>\n",
       "    </tr>\n",
       "    <tr>\n",
       "      <th>1</th>\n",
       "      <td>The International Space Station (ISS) circles ...</td>\n",
       "      <td>According to the context, the estimated mean v...</td>\n",
       "      <td>The International Space Station (ISS) orbits E...</td>\n",
       "      <td>0.500</td>\n",
       "      <td>The answer explicitly states that the estimate...</td>\n",
       "    </tr>\n",
       "    <tr>\n",
       "      <th>2</th>\n",
       "      <td>What drives differentiation?</td>\n",
       "      <td>Differentiation is driven by several factors, ...</td>\n",
       "      <td>Differentiation in products or services is dri...</td>\n",
       "      <td>0.375</td>\n",
       "      <td>The answer accurately identifies five key fact...</td>\n",
       "    </tr>\n",
       "    <tr>\n",
       "      <th>3</th>\n",
       "      <td>How have we been able to construct detailed ma...</td>\n",
       "      <td>According to the context, scientists have cons...</td>\n",
       "      <td>Venus, often referred to as Earth's \"evil twin...</td>\n",
       "      <td>1.000</td>\n",
       "      <td>The answer is explicitly stated in the provide...</td>\n",
       "    </tr>\n",
       "    <tr>\n",
       "      <th>4</th>\n",
       "      <td>Which property of our solar system does a form...</td>\n",
       "      <td>A formation theory does not need to explain th...</td>\n",
       "      <td>The gravitational force between the planets in...</td>\n",
       "      <td>0.500</td>\n",
       "      <td>The answer is explicitly stated in the context...</td>\n",
       "    </tr>\n",
       "  </tbody>\n",
       "</table>\n",
       "</div>"
      ],
      "text/plain": [
       "                                            question  \\\n",
       "0  In astronomy the concept of black bodies is ve...   \n",
       "1  The International Space Station (ISS) circles ...   \n",
       "2                       What drives differentiation?   \n",
       "3  How have we been able to construct detailed ma...   \n",
       "4  Which property of our solar system does a form...   \n",
       "\n",
       "                                        model_answer  \\\n",
       "0  A black body is a theoretical object that abso...   \n",
       "1  According to the context, the estimated mean v...   \n",
       "2  Differentiation is driven by several factors, ...   \n",
       "3  According to the context, scientists have cons...   \n",
       "4  A formation theory does not need to explain th...   \n",
       "\n",
       "                                             context  score  \\\n",
       "0  A black body is a theoretical object that abso...  1.000   \n",
       "1  The International Space Station (ISS) orbits E...  0.500   \n",
       "2  Differentiation in products or services is dri...  0.375   \n",
       "3  Venus, often referred to as Earth's \"evil twin...  1.000   \n",
       "4  The gravitational force between the planets in...  0.500   \n",
       "\n",
       "                                       justification  \n",
       "0  The answer is explicitly stated in the context...  \n",
       "1  The answer explicitly states that the estimate...  \n",
       "2  The answer accurately identifies five key fact...  \n",
       "3  The answer is explicitly stated in the provide...  \n",
       "4  The answer is explicitly stated in the context...  "
      ]
     },
     "execution_count": 2,
     "metadata": {},
     "output_type": "execute_result"
    }
   ],
   "source": [
    "# Load data from the JSON file\n",
    "with open('../results/factuality_results_llama3.json', 'r', encoding='utf-8') as f:\n",
    "    data = json.load(f)\n",
    "df = pd.DataFrame(data)\n",
    "df.head()"
   ]
  },
  {
   "cell_type": "markdown",
   "id": "f818c76b",
   "metadata": {},
   "source": [
    "## Descriptive Statistics\n",
    "We calculate statistical values such as mean, median, standard deviation, and the min/max of each score type."
   ]
  },
  {
   "cell_type": "code",
   "execution_count": 3,
   "id": "b3f116d2",
   "metadata": {},
   "outputs": [
    {
     "data": {
      "text/html": [
       "<div>\n",
       "<style scoped>\n",
       "    .dataframe tbody tr th:only-of-type {\n",
       "        vertical-align: middle;\n",
       "    }\n",
       "\n",
       "    .dataframe tbody tr th {\n",
       "        vertical-align: top;\n",
       "    }\n",
       "\n",
       "    .dataframe thead th {\n",
       "        text-align: right;\n",
       "    }\n",
       "</style>\n",
       "<table border=\"1\" class=\"dataframe\">\n",
       "  <thead>\n",
       "    <tr style=\"text-align: right;\">\n",
       "      <th></th>\n",
       "      <th>score</th>\n",
       "    </tr>\n",
       "  </thead>\n",
       "  <tbody>\n",
       "    <tr>\n",
       "      <th>count</th>\n",
       "      <td>29.000000</td>\n",
       "    </tr>\n",
       "    <tr>\n",
       "      <th>mean</th>\n",
       "      <td>0.573276</td>\n",
       "    </tr>\n",
       "    <tr>\n",
       "      <th>std</th>\n",
       "      <td>0.259888</td>\n",
       "    </tr>\n",
       "    <tr>\n",
       "      <th>min</th>\n",
       "      <td>0.000000</td>\n",
       "    </tr>\n",
       "    <tr>\n",
       "      <th>25%</th>\n",
       "      <td>0.500000</td>\n",
       "    </tr>\n",
       "    <tr>\n",
       "      <th>50%</th>\n",
       "      <td>0.500000</td>\n",
       "    </tr>\n",
       "    <tr>\n",
       "      <th>75%</th>\n",
       "      <td>0.625000</td>\n",
       "    </tr>\n",
       "    <tr>\n",
       "      <th>max</th>\n",
       "      <td>1.000000</td>\n",
       "    </tr>\n",
       "  </tbody>\n",
       "</table>\n",
       "</div>"
      ],
      "text/plain": [
       "           score\n",
       "count  29.000000\n",
       "mean    0.573276\n",
       "std     0.259888\n",
       "min     0.000000\n",
       "25%     0.500000\n",
       "50%     0.500000\n",
       "75%     0.625000\n",
       "max     1.000000"
      ]
     },
     "execution_count": 3,
     "metadata": {},
     "output_type": "execute_result"
    }
   ],
   "source": [
    "# Basic statistics on scores\n",
    "score_cols = [col for col in df.columns if 'score' in col]\n",
    "df[score_cols].describe()"
   ]
  },
  {
   "cell_type": "markdown",
   "id": "b301aa5a",
   "metadata": {},
   "source": [
    "## Score Distribution Visualization\n",
    "Histograms are generated to visualize how the values of each score are distributed."
   ]
  },
  {
   "cell_type": "code",
   "execution_count": 4,
   "id": "4b0f6aa6",
   "metadata": {},
   "outputs": [
    {
     "data": {
      "image/png": "[encoded data removed]",
      "text/plain": [
       "<Figure size 600x400 with 1 Axes>"
      ]
     },
     "metadata": {},
     "output_type": "display_data"
    }
   ],
   "source": [
    "# Histogram of each score\n",
    "for col in score_cols:\n",
    "    plt.figure(figsize=(6, 4))\n",
    "    sns.histplot(df[col], kde=True, bins=20)\n",
    "    plt.title(f'Distribution of {col}')\n",
    "    plt.xlabel(col)\n",
    "    plt.ylabel('Frequency')\n",
    "    plt.grid(True)\n",
    "    plt.show()"
   ]
  },
  {
   "cell_type": "markdown",
   "id": "34dba27b",
   "metadata": {},
   "source": [
    "## Automatic Distribution Analysis\n",
    "This section interprets score distributions based on statistical thresholds to provide insights."
   ]
  },
  {
   "cell_type": "code",
   "execution_count": 5,
   "id": "5055d817",
   "metadata": {},
   "outputs": [
    {
     "name": "stdout",
     "output_type": "stream",
     "text": [
      "--- score ---\n",
      "Mean: 0.573, Std Dev: 0.260\n",
      "Range: 0.000 - 1.000\n",
      "-> Good score dispersion. Variability is high.\n",
      "\n"
     ]
    }
   ],
   "source": [
    "# Automatic analysis of distributions\n",
    "for col in score_cols:\n",
    "    mean_val = df[col].mean()\n",
    "    std_val = df[col].std()\n",
    "    min_val = df[col].min()\n",
    "    max_val = df[col].max()\n",
    "    print(f'--- {col} ---')\n",
    "    print(f'Mean: {mean_val:.3f}, Std Dev: {std_val:.3f}')\n",
    "    print(f'Range: {min_val:.3f} - {max_val:.3f}')\n",
    "    if std_val < 0.1:\n",
    "        print('-> Scores are highly concentrated. May indicate low variability.')\n",
    "    elif std_val > 0.25:\n",
    "        print('-> Good score dispersion. Variability is high.')\n",
    "    if mean_val > 0.85:\n",
    "        print('-> Most responses scored high.')\n",
    "    elif mean_val < 0.5:\n",
    "        print('-> Many responses scored low. Model performance may be questionable.')\n",
    "    print()"
   ]
  },
  {
   "cell_type": "markdown",
   "id": "5bccef59",
   "metadata": {},
   "source": [
    "# Five less factual responses \n",
    "To complement the quantitative analysis, we manually inspect some of the examples with the lowest **factuality_score**.  This helps identify specific cases where the model fails to adhere to the given context, either by hallucinating information or omitting relevant facts."
   ]
  },
  {
   "cell_type": "code",
   "execution_count": 6,
   "id": "f4ba19f9",
   "metadata": {},
   "outputs": [
    {
     "name": "stdout",
     "output_type": "stream",
     "text": [
      "--- Example 23 ---\n",
      "Factuality Score: 0.000\n",
      "Answer: Finding shelter\n",
      "Context: Among animals, one potential explanation for migration is seasonal reproduction requirements. While many species do migrate in search of mating and breeding opportunities, some animals may remain in their original habitats year-round to reproduce. Therefore, reproductive needs alone are not always a sufficient reason for migration. Other common causes of migration include finding food sources, avoiding harsh weather conditions, and escaping predators or competition for resources.\n",
      "--------------------------------------------------------------------------------\n",
      "--- Example 9 ---\n",
      "Factuality Score: 0.250\n",
      "Answer: According to the context, the correct answer is:\n",
      "\n",
      "\"Escape of gas molecules due to weak gravitational pull\"\n",
      "\n",
      "This mechanism can contribute to atmospheric loss on Mercury, but it is not the primary reason for its lack of a permanent atmosphere. The intense solar radiation and high temperatures on Mercury's surface are the main factors that prevent the formation and retention of an atmosphere.\n",
      "Context: Mercury's proximity to the Sun is the most significant factor that cannot explain its lack of a permanent atmosphere. While other mechanisms such as escape of gas molecules due to weak gravitational pull, chemical reactions with the surface and solar wind can contribute to atmospheric loss on Mercury, the intense solar radiation and high temperatures on the planet's surface prevent the formation and retention of an atmosphere in the first place. In contrast, similar mechanisms have allowed other rocky planets like Earth and Mars to maintain a thicker atmosphere.\n",
      "--------------------------------------------------------------------------------\n",
      "--- Example 12 ---\n",
      "Factuality Score: 0.375\n",
      "Answer: By the mid-19th century.\n",
      "Context: During the late 18th and early 19th centuries, many of the territories that now make up Latin America were part of larger empires. Spain, Portugal, and Britain all controlled significant portions of the region for centuries. However, in the early 19th century, a wave of nationalistic sentiment swept through these territories, leading to a series of successful rebellions against colonial rule. Mexico became the first nation to declare independence from Spain in 1821, followed closely by several other countries, including Argentina, Chile, Colombia, Peru, and Brazil. The process of achieving independence was often violent and tumultuous, with many battles fought and treaties signed over the course of several decades. Nevertheless, by the mid-19th century, most Latin American countries had achieved sovereignty, ushering in a new era of political and economic development for the region.\n",
      "--------------------------------------------------------------------------------\n",
      "--- Example 2 ---\n",
      "Factuality Score: 0.375\n",
      "Answer: Differentiation is driven by several factors, including:\n",
      "\n",
      "1. Consumer needs and preferences\n",
      "2. Technological advancements\n",
      "3. Regulatory frameworks\n",
      "4. Competitive pressures\n",
      "5. Evolving trends and market dynamics\n",
      "Context: Differentiation in products or services is driven by several factors. Firstly, consumer needs and preferences play a significant role as businesses identify gaps in the market that are not being met by existing offerings. Secondly, technological advancements provide new opportunities for innovation and differentiation. Thirdly, regulatory frameworks can impact differentiation as companies must adhere to certain standards or requirements in their respective industries. Fourthly, competitive pressures can push companies to innovate and differentiate themselves from competitors in their markets. Lastly, evolving trends and market dynamics also contribute to driving differentiation as businesses adapt to changing customer demands and new industry realities.\n",
      "--------------------------------------------------------------------------------\n",
      "--- Example 18 ---\n",
      "Factuality Score: 0.375\n",
      "Answer: According to the context, only 41% of Americans supported providing economic assistance to Japan, even if it meant food shortages for American citizens.\n",
      "Context: Following the atomic bombings in Hiroshima and Nagasaki during World War II, the United States and Japan were left to grapple with the aftermath. The immediate consequences of the bombs resulted in significant loss of life, destruction of infrastructure, and widespread displacement. In the wake of these events, many Americans began to question whether it was appropriate to provide aid to Japan given the country's role as a former enemy during the war.\n",
      "\n",
      "A poll conducted by Gallup just three months after the bombings found that only 41% of Americans supported providing economic assistance to Japan, even if it meant food shortages for American citizens. This figure was significantly lower than the 85% who supported aid to Western Europe and 69% who favored assistance to Greece following their civil war.\n",
      "\n",
      "The decision to provide or withhold aid from Japan was a contentious issue in American politics at the time, with some arguing that the country's defeat had been secured by the bombs and that it would be unfair to burden American taxpayers with further costs. Others, however, believed that providing economic assistance was necessary for the long-term stability of the region and as a symbol of goodwill towards Japan. Ultimately, President Harry S. Truman did sign the Mutual Defense Assistance Act in 1949, which provided $2 billion in military aid to several countries, including Japan. However, economic assistance to Japan would not become significant until after the signing of the San Francisco Peace Treaty in 1951.\n",
      "--------------------------------------------------------------------------------\n"
     ]
    }
   ],
   "source": [
    "lowest_factual = df.sort_values(by='score').head(5)\n",
    "for idx, row in lowest_factual.iterrows():\n",
    "    print(f\"--- Example {idx} ---\")\n",
    "    print(f\"Factuality Score: {row['score']:.3f}\")\n",
    "    print(f\"Answer: {row['model_answer']}\")\n",
    "    print(f\"Context: {row['context']}\")\n",
    "    print(\"-\" * 80)"
   ]
  }
 ],
 "metadata": {
  "kernelspec": {
   "display_name": "venv",
   "language": "python",
   "name": "python3"
  },
  "language_info": {
   "codemirror_mode": {
    "name": "ipython",
    "version": 3
   },
   "file_extension": ".py",
   "mimetype": "text/x-python",
   "name": "python",
   "nbconvert_exporter": "python",
   "pygments_lexer": "ipython3",
   "version": "3.13.3"
  }
 },
 "nbformat": 4,
 "nbformat_minor": 5
}
