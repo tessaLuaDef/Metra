{
 "cells": [
  {
   "cell_type": "code",
   "execution_count": 3,
   "id": "d740004e",
   "metadata": {},
   "outputs": [
    {
     "ename": "OSError",
     "evalue": "[Errno 22] Invalid argument: '..\\results\\x07ccuracy_results_mistral.json'",
     "output_type": "error",
     "traceback": [
      "\u001b[31m---------------------------------------------------------------------------\u001b[39m",
      "\u001b[31mOSError\u001b[39m                                   Traceback (most recent call last)",
      "\u001b[36mCell\u001b[39m\u001b[36m \u001b[39m\u001b[32mIn[3]\u001b[39m\u001b[32m, line 6\u001b[39m\n\u001b[32m      3\u001b[39m \u001b[38;5;28;01mimport\u001b[39;00m\u001b[38;5;250m \u001b[39m\u001b[34;01mmatplotlib\u001b[39;00m\u001b[34;01m.\u001b[39;00m\u001b[34;01mpyplot\u001b[39;00m\u001b[38;5;250m \u001b[39m\u001b[38;5;28;01mas\u001b[39;00m\u001b[38;5;250m \u001b[39m\u001b[34;01mplt\u001b[39;00m\n\u001b[32m      5\u001b[39m \u001b[38;5;66;03m# Load the results\u001b[39;00m\n\u001b[32m----> \u001b[39m\u001b[32m6\u001b[39m \u001b[38;5;28;01mwith\u001b[39;00m \u001b[38;5;28;43mopen\u001b[39;49m\u001b[43m(\u001b[49m\u001b[33;43m\"\u001b[39;49m\u001b[33;43m..\u001b[39;49m\u001b[38;5;130;43;01m\\r\u001b[39;49;00m\u001b[33;43mesults\u001b[39;49m\u001b[38;5;130;43;01m\\a\u001b[39;49;00m\u001b[33;43mccuracy_results_mistral.json\u001b[39;49m\u001b[33;43m\"\u001b[39;49m\u001b[43m,\u001b[49m\u001b[43m \u001b[49m\u001b[33;43m\"\u001b[39;49m\u001b[33;43mr\u001b[39;49m\u001b[33;43m\"\u001b[39;49m\u001b[43m,\u001b[49m\u001b[43m \u001b[49m\u001b[43mencoding\u001b[49m\u001b[43m=\u001b[49m\u001b[33;43m\"\u001b[39;49m\u001b[33;43mutf-8\u001b[39;49m\u001b[33;43m\"\u001b[39;49m\u001b[43m)\u001b[49m \u001b[38;5;28;01mas\u001b[39;00m f:\n\u001b[32m      7\u001b[39m     data = json.load(f)\n\u001b[32m      9\u001b[39m df = pd.DataFrame(data)\n",
      "\u001b[36mFile \u001b[39m\u001b[32mc:\\Users\\tessa\\Documents\\GitHub\\TFG\\TFG-IngInf-25\\venv\\Lib\\site-packages\\IPython\\core\\interactiveshell.py:327\u001b[39m, in \u001b[36m_modified_open\u001b[39m\u001b[34m(file, *args, **kwargs)\u001b[39m\n\u001b[32m    320\u001b[39m \u001b[38;5;28;01mif\u001b[39;00m file \u001b[38;5;129;01min\u001b[39;00m {\u001b[32m0\u001b[39m, \u001b[32m1\u001b[39m, \u001b[32m2\u001b[39m}:\n\u001b[32m    321\u001b[39m     \u001b[38;5;28;01mraise\u001b[39;00m \u001b[38;5;167;01mValueError\u001b[39;00m(\n\u001b[32m    322\u001b[39m         \u001b[33mf\u001b[39m\u001b[33m\"\u001b[39m\u001b[33mIPython won\u001b[39m\u001b[33m'\u001b[39m\u001b[33mt let you open fd=\u001b[39m\u001b[38;5;132;01m{\u001b[39;00mfile\u001b[38;5;132;01m}\u001b[39;00m\u001b[33m by default \u001b[39m\u001b[33m\"\u001b[39m\n\u001b[32m    323\u001b[39m         \u001b[33m\"\u001b[39m\u001b[33mas it is likely to crash IPython. If you know what you are doing, \u001b[39m\u001b[33m\"\u001b[39m\n\u001b[32m    324\u001b[39m         \u001b[33m\"\u001b[39m\u001b[33myou can use builtins\u001b[39m\u001b[33m'\u001b[39m\u001b[33m open.\u001b[39m\u001b[33m\"\u001b[39m\n\u001b[32m    325\u001b[39m     )\n\u001b[32m--> \u001b[39m\u001b[32m327\u001b[39m \u001b[38;5;28;01mreturn\u001b[39;00m \u001b[43mio_open\u001b[49m\u001b[43m(\u001b[49m\u001b[43mfile\u001b[49m\u001b[43m,\u001b[49m\u001b[43m \u001b[49m\u001b[43m*\u001b[49m\u001b[43margs\u001b[49m\u001b[43m,\u001b[49m\u001b[43m \u001b[49m\u001b[43m*\u001b[49m\u001b[43m*\u001b[49m\u001b[43mkwargs\u001b[49m\u001b[43m)\u001b[49m\n",
      "\u001b[31mOSError\u001b[39m: [Errno 22] Invalid argument: '..\\results\\x07ccuracy_results_mistral.json'"
     ]
    }
   ],
   "source": [
    "\n",
    "import json\n",
    "import pandas as pd\n",
    "import matplotlib.pyplot as plt\n",
    "\n",
    "# Load the results\n",
    "with open(\"..\\results\\accuracy_results_mistral.json\", \"r\", encoding=\"utf-8\") as f:\n",
    "    data = json.load(f)\n",
    "\n",
    "df = pd.DataFrame(data)\n",
    "df.head()\n"
   ]
  },
  {
   "cell_type": "code",
   "execution_count": null,
   "id": "a8a18597",
   "metadata": {},
   "outputs": [],
   "source": [
    "\n",
    "# Show basic statistics\n",
    "summary = df[[\"cosine_similarity\", \"bertscore_f1\", \"hybrid_score\"]].agg(['mean', 'std', 'min', 'max'])\n",
    "summary\n"
   ]
  },
  {
   "cell_type": "code",
   "execution_count": null,
   "id": "5e97612b",
   "metadata": {},
   "outputs": [],
   "source": [
    "\n",
    "# Distribution of hybrid_score\n",
    "plt.figure(figsize=(6, 4))\n",
    "plt.hist(df[\"hybrid_score\"], bins=10, color='skyblue', edgecolor='black')\n",
    "plt.title(\"Distribution of Hybrid Accuracy Scores\")\n",
    "plt.xlabel(\"Hybrid Score\")\n",
    "plt.ylabel(\"Frequency\")\n",
    "plt.tight_layout()\n",
    "plt.show()\n"
   ]
  },
  {
   "cell_type": "code",
   "execution_count": null,
   "id": "4208f970",
   "metadata": {},
   "outputs": [],
   "source": [
    "\n",
    "# Top 3 and Bottom 3 by hybrid_score\n",
    "top3 = df.sort_values(\"hybrid_score\", ascending=False).head(3)\n",
    "bottom3 = df.sort_values(\"hybrid_score\", ascending=True).head(3)\n",
    "\n",
    "print(\"Top 3 Accuracy Examples:\")\n",
    "for idx, row in top3.iterrows():\n",
    "    print(f\"Hybrid Score: {row['hybrid_score']:.3f}\")\n",
    "    print(f\"Question: {row['question']}\")\n",
    "    print(f\"Expected: {row['expected_answer']}\")\n",
    "    print(f\"Model: {row['model_answer'][:300]}...\\n\")\n",
    "\n",
    "print(\"Bottom 3 Accuracy Examples:\")\n",
    "for idx, row in bottom3.iterrows():\n",
    "    print(f\"Hybrid Score: {row['hybrid_score']:.3f}\")\n",
    "    print(f\"Question: {row['question']}\")\n",
    "    print(f\"Expected: {row['expected_answer']}\")\n",
    "    print(f\"Model: {row['model_answer'][:300]}...\\n\")\n"
   ]
  }
 ],
 "metadata": {
  "kernelspec": {
   "display_name": "venv",
   "language": "python",
   "name": "python3"
  },
  "language_info": {
   "codemirror_mode": {
    "name": "ipython",
    "version": 3
   },
   "file_extension": ".py",
   "mimetype": "text/x-python",
   "name": "python",
   "nbconvert_exporter": "python",
   "pygments_lexer": "ipython3",
   "version": "3.13.3"
  }
 },
 "nbformat": 4,
 "nbformat_minor": 5
}
